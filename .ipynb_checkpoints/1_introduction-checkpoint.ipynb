{
 "cells": [
  {
   "cell_type": "markdown",
   "id": "e3794c8f-0d75-4c71-bf74-3a3c2449e36b",
   "metadata": {},
   "source": [
    "- introduction\n",
    "- features of python\n",
    "- datatypes\n",
    "- operators\n",
    "- data structures\n",
    "- list\n",
    "- tuple\n",
    "- set\n",
    "- frozenset\n",
    "- dict"
   ]
  },
  {
   "cell_type": "code",
   "execution_count": null,
   "id": "b3fbbcdc-60f6-4e13-a616-323c72fbf6e8",
   "metadata": {},
   "outputs": [],
   "source": []
  }
 ],
 "metadata": {
  "kernelspec": {
   "display_name": "Python 3 (ipykernel)",
   "language": "python",
   "name": "python3"
  },
  "language_info": {
   "codemirror_mode": {
    "name": "ipython",
    "version": 3
   },
   "file_extension": ".py",
   "mimetype": "text/x-python",
   "name": "python",
   "nbconvert_exporter": "python",
   "pygments_lexer": "ipython3",
   "version": "3.11.5"
  }
 },
 "nbformat": 4,
 "nbformat_minor": 5
}
