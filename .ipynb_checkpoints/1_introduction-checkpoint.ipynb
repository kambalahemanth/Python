{
 "cells": [
  {
   "cell_type": "markdown",
   "id": "e3794c8f-0d75-4c71-bf74-3a3c2449e36b",
   "metadata": {},
   "source": [
    "- introduction\n",
    "- features of python\n",
    "- datatypes\n",
    "- operators\n",
    "- data structures\n",
    "- list\n",
    "- tuple\n",
    "- set\n",
    "- frozenset\n",
    "- dict"
   ]
  },
  {
   "cell_type": "markdown",
   "id": "65246759-1c08-42ab-9be5-b77a46752090",
   "metadata": {},
   "source": [
    "# Heading"
   ]
  },
  {
   "cell_type": "markdown",
   "id": "f6909740-e36f-41f7-9548-e061fd3d4415",
   "metadata": {},
   "source": [
    "## Heading"
   ]
  },
  {
   "cell_type": "markdown",
   "id": "0684c16d-9e40-4413-b785-be0c53af0a8b",
   "metadata": {},
   "source": [
    "### Heading"
   ]
  },
  {
   "cell_type": "markdown",
   "id": "d30c426b-821f-4a55-a4f9-88218df76539",
   "metadata": {},
   "source": [
    "#### Heading"
   ]
  },
  {
   "cell_type": "markdown",
   "id": "0f612a80-3f81-4785-8238-d31f9835ec98",
   "metadata": {},
   "source": [
    "#### Decorators\n",
    "- https://www.youtube.com/watch?v=BE-L7xu8pO4"
   ]
  },
  {
   "cell_type": "code",
   "execution_count": 1,
   "id": "64a53927-ba70-440e-b33a-fa4ca26bbe4d",
   "metadata": {},
   "outputs": [
    {
     "name": "stdout",
     "output_type": "stream",
     "text": [
      "0\n",
      "1\n",
      "2\n",
      "3\n",
      "4\n",
      "5\n",
      "6\n",
      "7\n",
      "8\n",
      "9\n"
     ]
    }
   ],
   "source": [
    "for i in range(0,10):\n",
    "    print(i)"
   ]
  },
  {
   "cell_type": "code",
   "execution_count": 3,
   "id": "dab4dbaf-2899-49c5-a99f-7558ec4d3684",
   "metadata": {},
   "outputs": [
    {
     "name": "stdout",
     "output_type": "stream",
     "text": [
      "0\n",
      "1\n",
      "2\n",
      "3\n",
      "4\n",
      "5\n",
      "6\n",
      "7\n",
      "8\n",
      "9\n"
     ]
    }
   ],
   "source": [
    "for i in range(0,10):\n",
    "    print(i)"
   ]
  },
  {
   "cell_type": "code",
   "execution_count": null,
   "id": "9bca97cf-99a9-47b6-9bd8-fcfc23c8fc36",
   "metadata": {},
   "outputs": [],
   "source": []
  }
 ],
 "metadata": {
  "kernelspec": {
   "display_name": "Python 3 (ipykernel)",
   "language": "python",
   "name": "python3"
  },
  "language_info": {
   "codemirror_mode": {
    "name": "ipython",
    "version": 3
   },
   "file_extension": ".py",
   "mimetype": "text/x-python",
   "name": "python",
   "nbconvert_exporter": "python",
   "pygments_lexer": "ipython3",
   "version": "3.11.5"
  }
 },
 "nbformat": 4,
 "nbformat_minor": 5
}
